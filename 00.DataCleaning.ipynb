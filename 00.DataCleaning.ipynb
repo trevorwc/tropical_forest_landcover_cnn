{
 "cells": [
  {
   "cell_type": "markdown",
   "id": "678d1c2d-50d3-4867-8189-60689c11df4c",
   "metadata": {},
   "source": [
    "# Machine Learning for Sustainable Systems Final Project\n"
   ]
  },
  {
   "cell_type": "code",
   "execution_count": 2,
   "id": "fa7bdeab-eb2a-42e0-a8ad-ef6f1a2465ef",
   "metadata": {},
   "outputs": [],
   "source": [
    "import torch\n",
    "import torch.nn as nn\n",
    "import torch.optim as optim\n",
    "from torchvision import models, transforms\n",
    "from torch.utils.data import DataLoader, Dataset, SubsetRandomSampler, ConcatDataset\n",
    "import os\n",
    "from PIL import Image\n",
    "import pandas as pd\n",
    "import random\n",
    "from torch.utils.data import random_split"
   ]
  },
  {
   "cell_type": "code",
   "execution_count": 4,
   "id": "f66203f3-da05-483a-b166-ebe86ed97a52",
   "metadata": {},
   "outputs": [],
   "source": [
    "torch.manual_seed(0)\n",
    "oilTrainLabels = pd.read_csv('/Volumes/LaCie/MIT/MLSS Final Project/Oil_Palm_Kaggle/traininglabels.csv')"
   ]
  },
  {
   "cell_type": "code",
   "execution_count": 27,
   "id": "5579ddeb-a4f7-45bb-adb8-b0223b43dd41",
   "metadata": {},
   "outputs": [],
   "source": [
    "# Note: this portion utilized ChatGPT\n",
    "class OilPalmDataset(Dataset):\n",
    "    def __init__(self, csv, transform):\n",
    "        self.data = pd.read_csv(csv)\n",
    "        self.transform = transform\n",
    "\n",
    "    def __len__(self):\n",
    "        return len(self.data)\n",
    "    \n",
    "    def __getitem__(self, idx):\n",
    "        image_path = os.path.join('/Volumes/LaCie/MIT/MLSS Final Project/Oil_Palm_Kaggle/train_images/'+self.data.loc[idx,'image_id'])\n",
    "        image = Image.open(image_path)\n",
    "        image = self.transform(image)\n",
    "        label = \"oil_palm\" if self.data.loc[idx,'has_oilpalm'] == 1 else \"not_oil_palm\"\n",
    "        return {'image': image, 'labels': label}"
   ]
  },
  {
   "cell_type": "code",
   "execution_count": 30,
   "id": "08f809a2-0b58-48a5-91e7-402f73f1ceb8",
   "metadata": {},
   "outputs": [],
   "source": [
    "class LCDataset(Dataset):\n",
    "    def __init__(self, csv, transform):\n",
    "        self.data = pd.read_csv(csv)\n",
    "        self.transform = transform\n",
    "\n",
    "    def __len__(self):\n",
    "        return len(self.data)\n",
    "    \n",
    "    def __getitem__(self, idx):\n",
    "        image_path = os.path.join('/Volumes/LaCie/archive/planet/planet/train-jpg'+self.data.loc[idx,'image_name'])\n",
    "        image = Image.open(image_path)\n",
    "        image = self.transform(image)\n",
    "        label = self.data.loc[idx, 'tags']\n",
    "        return {'image': image, 'labels': label}"
   ]
  },
  {
   "cell_type": "code",
   "execution_count": 7,
   "id": "6001e273-de36-4234-9a6f-5f948aaf88d5",
   "metadata": {},
   "outputs": [],
   "source": [
    "# This is a general class to import any of the images, note ChatGPT was consulted in the creation of this code\n",
    "class LandCoverDataset(Dataset):\n",
    "    def __init__(self, csv, folder, transform, label_column, image_id_column):\n",
    "        self.data = pd.read_csv(csv)\n",
    "        self.transform = transform\n",
    "        self.folder = folder\n",
    "        self.label_column = label_column\n",
    "        self.image_id_column = image_id_column\n",
    "        \n",
    "        if self.label_column == 'has_oilpalm':\n",
    "            self.data[self.label_column] = self.data[self.label_column].map({1: 'oil_palm', 0: 'not_oil_palm'})\n",
    "        elif self.label_column == 'tags':\n",
    "            self.land_cover_types = self.data[self.label_column].unique()\n",
    "            self.categories = self.categorize_land_cover(self.land_cover_types)\n",
    "            self.data[self.label_column] = self.data[self.label_column].apply(self.adjust_label)\n",
    "\n",
    "    def __len__(self):\n",
    "        return len(self.data)\n",
    "    \n",
    "    def __getitem__(self, idx):\n",
    "            image_path = os.path.join(self.folder, self.data.loc[idx, self.image_id_column])\n",
    "            print(\"ogimg\",image_path)\n",
    "            print(self.image_id_column)\n",
    "            if self.image_id_column == 'image_id':\n",
    "                image_path = image_path[:-8]\n",
    "            image_path += \".jpg\"\n",
    "            print(\"newimg\",image_path)\n",
    "            if os.path.exists(image_path):\n",
    "                image = Image.open(image_path)\n",
    "                image = self.transform(image)\n",
    "                label = self.data.loc[idx, self.label_column]\n",
    "                if self.label_column == 'tags':\n",
    "                    label = self.data.loc[idx, self.label_column]\n",
    "                    adjusted_label = self.adjust_label(label)\n",
    "                    return {'image': image, 'labels': adjusted_label}\n",
    "                else:\n",
    "                    return {'image': image, 'labels': label}\n",
    "\n",
    "    def subset(self, labels):\n",
    "        # Note that this irreversibly changes the input-- that is ok for my application\n",
    "        self.data = self.data[self.data[self.label_column].isin(labels)]\n",
    "        return self\n",
    "\n",
    "    def categorize_land_cover(self, land_cover_types):\n",
    "        categories = []\n",
    "        for land_cover in land_cover_types:\n",
    "            if 'selective_logging' in land_cover:\n",
    "                categories.append('selective_logging')\n",
    "            elif 'agriculture' in land_cover:\n",
    "                categories.append('agriculture')\n",
    "            elif 'cultivation' in land_cover:\n",
    "                categories.append('agriculture')\n",
    "            elif 'habitation' in land_cover:\n",
    "                categories.append('habitation')\n",
    "            elif 'blow_down' in land_cover:\n",
    "                categories.append('blow_down')\n",
    "            elif 'road' in land_cover:\n",
    "                categories.append('road')\n",
    "            elif 'primary' in land_cover:\n",
    "                categories.append('primary')\n",
    "            else:\n",
    "                categories.append('other')\n",
    "        return categories\n",
    "    \n",
    "    def adjust_label(self, label):\n",
    "        if 'selective_logging' in label:\n",
    "            return 'selective_logging'\n",
    "        elif 'agriculture' in label or 'cultivation' in label:\n",
    "            return 'agriculture'\n",
    "        elif 'habitation' in label:\n",
    "            return 'habitation'\n",
    "        elif 'blow_down' in label:\n",
    "            return 'blow_down'\n",
    "        elif 'road' in label:\n",
    "            return 'road'\n",
    "        elif 'primary' in label:\n",
    "            return 'primary'\n",
    "        else:\n",
    "            return 'other'\n",
    "\n",
    "    def print_labels(self):\n",
    "        print(self.data[self.label_column].unique())\n",
    "\n"
   ]
  },
  {
   "cell_type": "code",
   "execution_count": 8,
   "id": "f7d457ad-a167-40a3-afc5-2f86b2a4a9c7",
   "metadata": {},
   "outputs": [],
   "source": [
    "mlaa_transform = transforms.Compose([\n",
    "        transforms.Resize((224, 224)),\n",
    "        transforms.Lambda(lambda img: img.convert('RGB')),  \n",
    "        transforms.ToTensor(),\n",
    "        transforms.Normalize([0.485, 0.456, 0.406], [0.229, 0.224, 0.225])])"
   ]
  },
  {
   "cell_type": "code",
   "execution_count": 9,
   "id": "f76be4cf-ed0d-4ec7-b0e2-ee73ea7167a7",
   "metadata": {},
   "outputs": [],
   "source": [
    "trainingOil_dataset = LandCoverDataset('/Volumes/LaCie/MIT/MLSS Final Project/Oil_Palm_Kaggle/traininglabels.csv','/Volumes/LaCie/MIT/MLSS Final Project/Oil_Palm_Kaggle/train_images', mlaa_transform, 'has_oilpalm', 'image_id')"
   ]
  },
  {
   "cell_type": "code",
   "execution_count": 558,
   "id": "6a91a105-ea33-452f-b2e0-eb8d860b7ded",
   "metadata": {},
   "outputs": [
    {
     "name": "stdout",
     "output_type": "stream",
     "text": [
      "ogimg /Volumes/LaCie/MIT/MLSS Final Project/Oil_Palm_Kaggle/train_images/img_050892018.jpg\n",
      "image_id\n",
      "newimg /Volumes/LaCie/MIT/MLSS Final Project/Oil_Palm_Kaggle/train_images/img_05089.jpg\n"
     ]
    },
    {
     "data": {
      "text/plain": [
       "{'image': tensor([[[-1.4158, -1.4672, -1.3815,  ..., -1.2959, -1.0904, -0.9192],\n",
       "          [-1.3644, -1.3987, -1.2788,  ..., -1.3987, -1.4158, -1.3987],\n",
       "          [-1.2103, -1.1247, -0.8335,  ..., -1.3473, -1.5014, -1.5528],\n",
       "          ...,\n",
       "          [ 1.2557,  1.3413,  1.2214,  ...,  0.1768, -0.2342, -0.5767],\n",
       "          [ 0.7077,  0.9303,  1.2385,  ...,  0.1083, -0.1828, -0.5253],\n",
       "          [ 0.1426,  0.5364,  1.1872,  ...,  0.1597,  0.0569, -0.4226]],\n",
       " \n",
       "         [[-1.2829, -1.3704, -1.2654,  ..., -1.1429, -0.9153, -0.7227],\n",
       "          [-1.2479, -1.3354, -1.2479,  ..., -1.2479, -1.2129, -1.1604],\n",
       "          [-1.1604, -1.1078, -0.8978,  ..., -1.2129, -1.3004, -1.2654],\n",
       "          ...,\n",
       "          [ 0.6254,  0.7479,  0.6954,  ..., -0.0049, -0.2850, -0.5301],\n",
       "          [ 0.2052,  0.4153,  0.6954,  ..., -0.0924, -0.2675, -0.4951],\n",
       "          [-0.2850,  0.0476,  0.6429,  ..., -0.0574, -0.0399, -0.4251]],\n",
       " \n",
       "         [[-1.3339, -1.4036, -1.3339,  ..., -1.3861, -1.1944, -1.0027],\n",
       "          [-1.4384, -1.5081, -1.4036,  ..., -1.5081, -1.4733, -1.4036],\n",
       "          [-1.5953, -1.5081, -1.2119,  ..., -1.4733, -1.5081, -1.4733],\n",
       "          ...,\n",
       "          [ 0.0779,  0.1999,  0.1825,  ..., -0.4275, -0.7238, -1.0027],\n",
       "          [-0.3927, -0.2010,  0.1128,  ..., -0.5147, -0.7413, -1.0027],\n",
       "          [-0.9156, -0.5670,  0.0431,  ..., -0.4798, -0.5147, -0.9330]]]),\n",
       " 'labels': 'not_oil_palm'}"
      ]
     },
     "execution_count": 558,
     "metadata": {},
     "output_type": "execute_result"
    }
   ],
   "source": [
    "sample = trainingOil_dataset[11000]\n",
    "#len(trainingOil_dataset)\n",
    "sample"
   ]
  },
  {
   "cell_type": "code",
   "execution_count": 559,
   "id": "1fb19889-fa19-42e4-bc10-6c7f851ad306",
   "metadata": {},
   "outputs": [
    {
     "name": "stdout",
     "output_type": "stream",
     "text": [
      "['not_oil_palm' 'oil_palm']\n"
     ]
    }
   ],
   "source": [
    "trainingOil_dataset.print_labels()"
   ]
  },
  {
   "cell_type": "code",
   "execution_count": 560,
   "id": "08459c3e-fea0-40c7-89c2-1c802e413de7",
   "metadata": {},
   "outputs": [],
   "source": [
    "trainingLC_dataset = LandCoverDataset('/Volumes/LaCie/archive/planet/planet/train_classes.csv', '/Volumes/LaCie/archive/planet/planet/train-jpg', mlaa_transform, 'tags', 'image_name')"
   ]
  },
  {
   "cell_type": "code",
   "execution_count": 561,
   "id": "3a083527-0f4b-4304-b9c1-817e8f09fb0c",
   "metadata": {},
   "outputs": [
    {
     "data": {
      "text/plain": [
       "40479"
      ]
     },
     "execution_count": 561,
     "metadata": {},
     "output_type": "execute_result"
    }
   ],
   "source": [
    "len(trainingLC_dataset)"
   ]
  },
  {
   "cell_type": "code",
   "execution_count": 562,
   "id": "2be9117d-f3e4-45b4-94b7-44bc17560004",
   "metadata": {},
   "outputs": [
    {
     "name": "stdout",
     "output_type": "stream",
     "text": [
      "['primary' 'agriculture' 'other' 'road' 'habitation' 'selective_logging'\n",
      " 'blow_down']\n"
     ]
    }
   ],
   "source": [
    "trainingLC_dataset.print_labels()"
   ]
  },
  {
   "cell_type": "code",
   "execution_count": 563,
   "id": "da5bcf73-03d3-41d7-b69b-9b52d6ab526d",
   "metadata": {},
   "outputs": [
    {
     "name": "stdout",
     "output_type": "stream",
     "text": [
      "ogimg /Volumes/LaCie/archive/planet/planet/train-jpg/train_1\n",
      "image_name\n",
      "newimg /Volumes/LaCie/archive/planet/planet/train-jpg/train_1.jpg\n"
     ]
    },
    {
     "data": {
      "text/plain": [
       "{'image': tensor([[[-1.2959, -1.2274, -1.1247,  ..., -1.3302, -1.2788, -1.1589],\n",
       "          [-1.2445, -1.1932, -1.1247,  ..., -1.3644, -1.4158, -1.3473],\n",
       "          [-1.1932, -1.1760, -1.1418,  ..., -1.3302, -1.4158, -1.4329],\n",
       "          ...,\n",
       "          [-0.5253, -0.4739, -0.4226,  ..., -0.9020, -0.7993, -0.6623],\n",
       "          [-0.5424, -0.4911, -0.4226,  ..., -0.7822, -0.6623, -0.5424],\n",
       "          [-0.5767, -0.4911, -0.4226,  ..., -0.6965, -0.5767, -0.4568]],\n",
       " \n",
       "         [[-0.9678, -0.9153, -0.8277,  ..., -1.0728, -1.0553, -0.9503],\n",
       "          [-0.9503, -0.8978, -0.8277,  ..., -1.1253, -1.1253, -1.0203],\n",
       "          [-0.9153, -0.8803, -0.8452,  ..., -1.1078, -1.1429, -1.0903],\n",
       "          ...,\n",
       "          [-0.3025, -0.2500, -0.1975,  ..., -0.5826, -0.4776, -0.4251],\n",
       "          [-0.3375, -0.2850, -0.2325,  ..., -0.4951, -0.3901, -0.3200],\n",
       "          [-0.3550, -0.3025, -0.2325,  ..., -0.4601, -0.3550, -0.2850]],\n",
       " \n",
       "         [[-0.8458, -0.8110, -0.7587,  ..., -0.9504, -0.9156, -0.8110],\n",
       "          [-0.7936, -0.7761, -0.7587,  ..., -0.9504, -0.9853, -0.9330],\n",
       "          [-0.7413, -0.7413, -0.7587,  ..., -0.8981, -0.9678, -0.9504],\n",
       "          ...,\n",
       "          [-0.4798, -0.4275, -0.3753,  ..., -0.6018, -0.5147, -0.4450],\n",
       "          [-0.5147, -0.4275, -0.3578,  ..., -0.5670, -0.4624, -0.3927],\n",
       "          [-0.5495, -0.4275, -0.3578,  ..., -0.5495, -0.4450, -0.3578]]]),\n",
       " 'labels': 'agriculture'}"
      ]
     },
     "execution_count": 563,
     "metadata": {},
     "output_type": "execute_result"
    }
   ],
   "source": [
    "trainingLC_dataset[1]"
   ]
  },
  {
   "cell_type": "code",
   "execution_count": 564,
   "id": "4e943b30-a9d3-4171-8a10-79f4dc3bcbac",
   "metadata": {},
   "outputs": [],
   "source": [
    "oilPalmOnly = trainingOil_dataset.subset(['oil_palm'])"
   ]
  },
  {
   "cell_type": "code",
   "execution_count": 565,
   "id": "7b5eff71-7226-4322-8aff-51fea9ebf852",
   "metadata": {},
   "outputs": [
    {
     "name": "stdout",
     "output_type": "stream",
     "text": [
      "942\n",
      "['oil_palm']\n"
     ]
    }
   ],
   "source": [
    "print(len(oilPalmOnly))\n",
    "oilPalmOnly.print_labels()"
   ]
  },
  {
   "cell_type": "code",
   "execution_count": 566,
   "id": "1057f3db-8c9b-4aea-a40d-7b87c31d0d71",
   "metadata": {},
   "outputs": [],
   "source": [
    "relevantLandUse = trainingLC_dataset.subset(['primary', 'road','selective_logging'])\n",
    "\n",
    "# Create indices for the dataset\n",
    "indices = list(range(len(relevantLandUse)))\n",
    "\n",
    "# Shuffle the indices randomly\n",
    "random.shuffle(indices)\n",
    "\n",
    "total_size = len(relevantLandUse)\n",
    "train_size = int(0.8 * total_size)  # 80% for training\n",
    "test_size = total_size - train_size \n",
    "# Create DataLoader for training and testing\n",
    "LC_train, LC_test = random_split(relevantLandUse, [train_size, test_size])"
   ]
  },
  {
   "cell_type": "code",
   "execution_count": 567,
   "id": "91e59bee-09ed-4e26-b153-64099528c229",
   "metadata": {},
   "outputs": [
    {
     "data": {
      "text/plain": [
       "<__main__.LandCoverDataset at 0x2858ab0e0>"
      ]
     },
     "execution_count": 567,
     "metadata": {},
     "output_type": "execute_result"
    }
   ],
   "source": [
    "LC_train.dataset\n"
   ]
  },
  {
   "cell_type": "code",
   "execution_count": 590,
   "id": "747a7164-815e-45e8-8608-9caefef82836",
   "metadata": {},
   "outputs": [],
   "source": [
    "class ConcatenatedLandCoverDataset(Dataset):\n",
    "    def __init__(self, dataset1, dataset2):\n",
    "        self.dataset1 = dataset1\n",
    "        self.dataset2 = dataset2\n",
    "        self.length = len(dataset1) + len(dataset2)\n",
    "\n",
    "    def __getitem__(self, idx):\n",
    "        if idx < len(self.dataset1):\n",
    "            return self.dataset1[idx]\n",
    "        else:\n",
    "            return self.dataset2[idx - len(self.dataset1)]\n",
    "\n",
    "    def __len__(self):\n",
    "        return len(self.dataset1) + len(self.dataset2)\n",
    "\n",
    "    def dropna(self, labels):\n",
    "        # Note that this irreversibly changes the input-- that is ok for my application\n",
    "        self.data = self.data[self.data[self.label_column].isin(labels)]\n",
    "        return self\n",
    "\n",
    "# Then create the concatenated dataset like this:\n",
    "concatenated_train_dataset = ConcatenatedLandCoverDataset(LC_train.dataset, oilPalmOnly)"
   ]
  },
  {
   "cell_type": "code",
   "execution_count": 591,
   "id": "4c0c09d8-b9e0-4d16-8e77-a9a619b9ab9e",
   "metadata": {},
   "outputs": [
    {
     "name": "stdout",
     "output_type": "stream",
     "text": [
      "ogimg /Volumes/LaCie/archive/planet/planet/train-jpg/train_1000\n",
      "image_name\n",
      "newimg /Volumes/LaCie/archive/planet/planet/train-jpg/train_1000.jpg\n"
     ]
    },
    {
     "data": {
      "text/plain": [
       "{'image': tensor([[[-0.8335, -0.8335, -0.7993,  ..., -0.9020, -0.9363, -0.9020],\n",
       "          [-0.7822, -0.8164, -0.8164,  ..., -0.9020, -0.9534, -0.9192],\n",
       "          [-0.7137, -0.7650, -0.7822,  ..., -0.9020, -0.9534, -0.9363],\n",
       "          ...,\n",
       "          [ 0.4851,  0.4508,  0.3994,  ..., -0.9363, -0.9020, -0.8507],\n",
       "          [ 0.4679,  0.4508,  0.3994,  ..., -0.9534, -0.9192, -0.8849],\n",
       "          [ 0.4337,  0.4508,  0.3994,  ..., -0.9877, -0.9705, -0.9192]],\n",
       " \n",
       "         [[-0.4426, -0.4776, -0.4776,  ..., -0.5826, -0.5826, -0.5126],\n",
       "          [-0.4076, -0.4601, -0.4426,  ..., -0.6001, -0.6176, -0.5476],\n",
       "          [-0.3725, -0.4251, -0.4076,  ..., -0.6176, -0.6352, -0.5651],\n",
       "          ...,\n",
       "          [ 0.6779,  0.7129,  0.6954,  ..., -0.6001, -0.5651, -0.5301],\n",
       "          [ 0.6954,  0.7129,  0.6779,  ..., -0.6001, -0.5826, -0.5476],\n",
       "          [ 0.7129,  0.7304,  0.6604,  ..., -0.6001, -0.5826, -0.5476]],\n",
       " \n",
       "         [[-0.3404, -0.2532, -0.2010,  ..., -0.3230, -0.3055, -0.2532],\n",
       "          [-0.2881, -0.2010, -0.1835,  ..., -0.3578, -0.3230, -0.2532],\n",
       "          [-0.2184, -0.1835, -0.1835,  ..., -0.3753, -0.3404, -0.2881],\n",
       "          ...,\n",
       "          [ 0.6705,  0.6705,  0.6182,  ..., -0.3578, -0.3578, -0.3404],\n",
       "          [ 0.6879,  0.6879,  0.6008,  ..., -0.3404, -0.3404, -0.3404],\n",
       "          [ 0.5834,  0.6182,  0.5485,  ..., -0.2881, -0.2881, -0.2881]]]),\n",
       " 'labels': 'primary'}"
      ]
     },
     "execution_count": 591,
     "metadata": {},
     "output_type": "execute_result"
    }
   ],
   "source": [
    "concatenated_train_dataset[1000]"
   ]
  },
  {
   "cell_type": "code",
   "execution_count": 592,
   "id": "e6e38270-a7f2-46a1-91d6-66ad3b8b4b91",
   "metadata": {},
   "outputs": [
    {
     "name": "stdout",
     "output_type": "stream",
     "text": [
      "ogimg /Volumes/LaCie/archive/planet/planet/train-jpg/train_2000\n",
      "image_name\n",
      "newimg /Volumes/LaCie/archive/planet/planet/train-jpg/train_2000.jpg\n",
      "['primary' 'road' 'selective_logging']\n"
     ]
    },
    {
     "data": {
      "text/plain": [
       "23883"
      ]
     },
     "execution_count": 592,
     "metadata": {},
     "output_type": "execute_result"
    }
   ],
   "source": [
    "relevantLandUse[2000]\n",
    "relevantLandUse.print_labels()\n",
    "len(relevantLandUse)"
   ]
  },
  {
   "cell_type": "code",
   "execution_count": 593,
   "id": "96cb3334-958f-4eda-9160-fe5deb5ba1b5",
   "metadata": {},
   "outputs": [],
   "source": [
    "oilTest = LandCoverDataset('/Volumes/LaCie/MIT/MLSS Final Project/Oil_Palm_Kaggle/testlabels.csv','/Volumes/LaCie/MIT/MLSS Final Project/Oil_Palm_Kaggle/leaderboard_test_data', mlaa_transform, 'has_oilpalm', 'image_id')"
   ]
  },
  {
   "cell_type": "code",
   "execution_count": 594,
   "id": "2c5225f4-adf1-4258-94c7-0ebbb17a0fc1",
   "metadata": {},
   "outputs": [
    {
     "name": "stdout",
     "output_type": "stream",
     "text": [
      "ogimg /Volumes/LaCie/MIT/MLSS Final Project/Oil_Palm_Kaggle/leaderboard_test_data/img_048172017.jpg\n",
      "image_id\n",
      "newimg /Volumes/LaCie/MIT/MLSS Final Project/Oil_Palm_Kaggle/leaderboard_test_data/img_04817.jpg\n"
     ]
    }
   ],
   "source": [
    "oilTestP = oilTest.subset(['oil_palm'])\n",
    "oilTestP[1]\n",
    "concatenated_test_dataset = ConcatenatedLandCoverDataset(LC_test.dataset, oilTestP)"
   ]
  },
  {
   "cell_type": "code",
   "execution_count": 595,
   "id": "b4b1b196-d89d-478d-81d9-cadc8636f601",
   "metadata": {},
   "outputs": [
    {
     "name": "stdout",
     "output_type": "stream",
     "text": [
      "ogimg /Volumes/LaCie/archive/planet/planet/train-jpg/train_10000\n",
      "image_name\n",
      "newimg /Volumes/LaCie/archive/planet/planet/train-jpg/train_10000.jpg\n"
     ]
    },
    {
     "data": {
      "text/plain": [
       "{'image': tensor([[[-1.3644, -1.3644, -1.3473,  ..., -1.3473, -1.2788, -1.2274],\n",
       "          [-1.3130, -1.3473, -1.3644,  ..., -1.2959, -1.2274, -1.1932],\n",
       "          [-1.2959, -1.3644, -1.4158,  ..., -1.2788, -1.2103, -1.2274],\n",
       "          ...,\n",
       "          [-1.1932, -1.2445, -1.3302,  ..., -1.3302, -1.3130, -1.2959],\n",
       "          [-1.2103, -1.2445, -1.3130,  ..., -1.2959, -1.3130, -1.3130],\n",
       "          [-1.2445, -1.2274, -1.2788,  ..., -1.2788, -1.3473, -1.3815]],\n",
       " \n",
       "         [[-0.8978, -0.8627, -0.8978,  ..., -0.9503, -0.8978, -0.8277],\n",
       "          [-0.8627, -0.8803, -0.9153,  ..., -0.9853, -0.8978, -0.8102],\n",
       "          [-0.8627, -0.9328, -0.9678,  ..., -1.0028, -0.8978, -0.8102],\n",
       "          ...,\n",
       "          [-0.7752, -0.8277, -0.8627,  ..., -0.9153, -0.9153, -0.9153],\n",
       "          [-0.7927, -0.8277, -0.8803,  ..., -0.8452, -0.8803, -0.9328],\n",
       "          [-0.7927, -0.8277, -0.8803,  ..., -0.7927, -0.8627, -0.9153]],\n",
       " \n",
       "         [[-0.9853, -0.9678, -1.0027,  ..., -0.9853, -0.9678, -0.9330],\n",
       "          [-0.9853, -1.0201, -1.0550,  ..., -0.9678, -0.9330, -0.8981],\n",
       "          [-0.9678, -1.0376, -1.0724,  ..., -0.9504, -0.9156, -0.8807],\n",
       "          ...,\n",
       "          [-0.8458, -0.8981, -0.9156,  ..., -0.9156, -0.9156, -0.9156],\n",
       "          [-0.8633, -0.9156, -0.9330,  ..., -0.8981, -0.8981, -0.8981],\n",
       "          [-0.8807, -0.9330, -0.9504,  ..., -0.9330, -0.9330, -0.9504]]]),\n",
       " 'labels': 'primary'}"
      ]
     },
     "execution_count": 595,
     "metadata": {},
     "output_type": "execute_result"
    }
   ],
   "source": [
    "concatenated_test_dataset[10000]"
   ]
  },
  {
   "cell_type": "code",
   "execution_count": 596,
   "id": "f59e14c7-18b6-4213-9956-a4b1fdf84468",
   "metadata": {},
   "outputs": [],
   "source": [
    "batch_size = 4\n",
    "concat_train_loader = DataLoader(concatenated_train_dataset, batch_size = batch_size)\n",
    "concat_test_loader = DataLoader(concatenated_test_dataset, batch_size = batch_size)"
   ]
  },
  {
   "cell_type": "code",
   "execution_count": 612,
   "id": "0338843c-8eea-4b12-bdb0-bd3cf3ac9ba8",
   "metadata": {},
   "outputs": [
    {
     "ename": "NameError",
     "evalue": "name 'dropna' is not defined",
     "output_type": "error",
     "traceback": [
      "\u001b[0;31m---------------------------------------------------------------------------\u001b[0m",
      "\u001b[0;31mNameError\u001b[0m                                 Traceback (most recent call last)",
      "Cell \u001b[0;32mIn[612], line 1\u001b[0m\n\u001b[0;32m----> 1\u001b[0m \u001b[43mdropna\u001b[49m(concatenated_train_dataset)\n",
      "\u001b[0;31mNameError\u001b[0m: name 'dropna' is not defined"
     ]
    }
   ],
   "source": [
    "dropna(concatenated_train_dataset)"
   ]
  },
  {
   "cell_type": "code",
   "execution_count": 597,
   "id": "abf23be6-488a-4f10-853f-bbe7152a9375",
   "metadata": {
    "scrolled": true
   },
   "outputs": [
    {
     "name": "stdout",
     "output_type": "stream",
     "text": [
      "ogimg /Volumes/LaCie/archive/planet/planet/train-jpg/train_0\n",
      "image_name\n",
      "newimg /Volumes/LaCie/archive/planet/planet/train-jpg/train_0.jpg\n"
     ]
    },
    {
     "ename": "KeyError",
     "evalue": "1",
     "output_type": "error",
     "traceback": [
      "\u001b[0;31m---------------------------------------------------------------------------\u001b[0m",
      "\u001b[0;31mKeyError\u001b[0m                                  Traceback (most recent call last)",
      "File \u001b[0;32m/Library/Frameworks/Python.framework/Versions/3.12/lib/python3.12/site-packages/pandas/core/indexes/base.py:3805\u001b[0m, in \u001b[0;36mIndex.get_loc\u001b[0;34m(self, key)\u001b[0m\n\u001b[1;32m   3804\u001b[0m \u001b[38;5;28;01mtry\u001b[39;00m:\n\u001b[0;32m-> 3805\u001b[0m     \u001b[38;5;28;01mreturn\u001b[39;00m \u001b[38;5;28;43mself\u001b[39;49m\u001b[38;5;241;43m.\u001b[39;49m\u001b[43m_engine\u001b[49m\u001b[38;5;241;43m.\u001b[39;49m\u001b[43mget_loc\u001b[49m\u001b[43m(\u001b[49m\u001b[43mcasted_key\u001b[49m\u001b[43m)\u001b[49m\n\u001b[1;32m   3806\u001b[0m \u001b[38;5;28;01mexcept\u001b[39;00m \u001b[38;5;167;01mKeyError\u001b[39;00m \u001b[38;5;28;01mas\u001b[39;00m err:\n",
      "File \u001b[0;32mindex.pyx:167\u001b[0m, in \u001b[0;36mpandas._libs.index.IndexEngine.get_loc\u001b[0;34m()\u001b[0m\n",
      "File \u001b[0;32mindex.pyx:196\u001b[0m, in \u001b[0;36mpandas._libs.index.IndexEngine.get_loc\u001b[0;34m()\u001b[0m\n",
      "File \u001b[0;32mpandas/_libs/hashtable_class_helper.pxi:2606\u001b[0m, in \u001b[0;36mpandas._libs.hashtable.Int64HashTable.get_item\u001b[0;34m()\u001b[0m\n",
      "File \u001b[0;32mpandas/_libs/hashtable_class_helper.pxi:2630\u001b[0m, in \u001b[0;36mpandas._libs.hashtable.Int64HashTable.get_item\u001b[0;34m()\u001b[0m\n",
      "\u001b[0;31mKeyError\u001b[0m: 1",
      "\nThe above exception was the direct cause of the following exception:\n",
      "\u001b[0;31mKeyError\u001b[0m                                  Traceback (most recent call last)",
      "Cell \u001b[0;32mIn[597], line 27\u001b[0m\n\u001b[1;32m     24\u001b[0m running_loss \u001b[38;5;241m=\u001b[39m \u001b[38;5;241m0.0\u001b[39m\n\u001b[1;32m     26\u001b[0m \u001b[38;5;66;03m# Iterate over each batch in the training data\u001b[39;00m\n\u001b[0;32m---> 27\u001b[0m \u001b[43m\u001b[49m\u001b[38;5;28;43;01mfor\u001b[39;49;00m\u001b[43m \u001b[49m\u001b[43minputs\u001b[49m\u001b[43m,\u001b[49m\u001b[43m \u001b[49m\u001b[43mlabels\u001b[49m\u001b[43m \u001b[49m\u001b[38;5;129;43;01min\u001b[39;49;00m\u001b[43m \u001b[49m\u001b[43mtrain_data\u001b[49m\u001b[43m:\u001b[49m\n\u001b[1;32m     28\u001b[0m \u001b[43m    \u001b[49m\u001b[38;5;66;43;03m# Move inputs and labels to the GPU if available\u001b[39;49;00m\n\u001b[1;32m     29\u001b[0m \u001b[43m    \u001b[49m\u001b[43minputs\u001b[49m\u001b[43m \u001b[49m\u001b[38;5;241;43m=\u001b[39;49m\u001b[43m \u001b[49m\u001b[43minputs\u001b[49m\u001b[38;5;241;43m.\u001b[39;49m\u001b[43mto\u001b[49m\u001b[43m(\u001b[49m\u001b[43mdevice\u001b[49m\u001b[43m)\u001b[49m\n\u001b[1;32m     30\u001b[0m \u001b[43m    \u001b[49m\u001b[43mlabels\u001b[49m\u001b[43m \u001b[49m\u001b[38;5;241;43m=\u001b[39;49m\u001b[43m \u001b[49m\u001b[43mlabels\u001b[49m\u001b[38;5;241;43m.\u001b[39;49m\u001b[43mto\u001b[49m\u001b[43m(\u001b[49m\u001b[43mdevice\u001b[49m\u001b[43m)\u001b[49m\n",
      "File \u001b[0;32m/Library/Frameworks/Python.framework/Versions/3.12/lib/python3.12/site-packages/torch/utils/data/dataloader.py:631\u001b[0m, in \u001b[0;36m_BaseDataLoaderIter.__next__\u001b[0;34m(self)\u001b[0m\n\u001b[1;32m    628\u001b[0m \u001b[38;5;28;01mif\u001b[39;00m \u001b[38;5;28mself\u001b[39m\u001b[38;5;241m.\u001b[39m_sampler_iter \u001b[38;5;129;01mis\u001b[39;00m \u001b[38;5;28;01mNone\u001b[39;00m:\n\u001b[1;32m    629\u001b[0m     \u001b[38;5;66;03m# TODO(https://github.com/pytorch/pytorch/issues/76750)\u001b[39;00m\n\u001b[1;32m    630\u001b[0m     \u001b[38;5;28mself\u001b[39m\u001b[38;5;241m.\u001b[39m_reset()  \u001b[38;5;66;03m# type: ignore[call-arg]\u001b[39;00m\n\u001b[0;32m--> 631\u001b[0m data \u001b[38;5;241m=\u001b[39m \u001b[38;5;28;43mself\u001b[39;49m\u001b[38;5;241;43m.\u001b[39;49m\u001b[43m_next_data\u001b[49m\u001b[43m(\u001b[49m\u001b[43m)\u001b[49m\n\u001b[1;32m    632\u001b[0m \u001b[38;5;28mself\u001b[39m\u001b[38;5;241m.\u001b[39m_num_yielded \u001b[38;5;241m+\u001b[39m\u001b[38;5;241m=\u001b[39m \u001b[38;5;241m1\u001b[39m\n\u001b[1;32m    633\u001b[0m \u001b[38;5;28;01mif\u001b[39;00m \u001b[38;5;28mself\u001b[39m\u001b[38;5;241m.\u001b[39m_dataset_kind \u001b[38;5;241m==\u001b[39m _DatasetKind\u001b[38;5;241m.\u001b[39mIterable \u001b[38;5;129;01mand\u001b[39;00m \\\n\u001b[1;32m    634\u001b[0m         \u001b[38;5;28mself\u001b[39m\u001b[38;5;241m.\u001b[39m_IterableDataset_len_called \u001b[38;5;129;01mis\u001b[39;00m \u001b[38;5;129;01mnot\u001b[39;00m \u001b[38;5;28;01mNone\u001b[39;00m \u001b[38;5;129;01mand\u001b[39;00m \\\n\u001b[1;32m    635\u001b[0m         \u001b[38;5;28mself\u001b[39m\u001b[38;5;241m.\u001b[39m_num_yielded \u001b[38;5;241m>\u001b[39m \u001b[38;5;28mself\u001b[39m\u001b[38;5;241m.\u001b[39m_IterableDataset_len_called:\n",
      "File \u001b[0;32m/Library/Frameworks/Python.framework/Versions/3.12/lib/python3.12/site-packages/torch/utils/data/dataloader.py:675\u001b[0m, in \u001b[0;36m_SingleProcessDataLoaderIter._next_data\u001b[0;34m(self)\u001b[0m\n\u001b[1;32m    673\u001b[0m \u001b[38;5;28;01mdef\u001b[39;00m \u001b[38;5;21m_next_data\u001b[39m(\u001b[38;5;28mself\u001b[39m):\n\u001b[1;32m    674\u001b[0m     index \u001b[38;5;241m=\u001b[39m \u001b[38;5;28mself\u001b[39m\u001b[38;5;241m.\u001b[39m_next_index()  \u001b[38;5;66;03m# may raise StopIteration\u001b[39;00m\n\u001b[0;32m--> 675\u001b[0m     data \u001b[38;5;241m=\u001b[39m \u001b[38;5;28;43mself\u001b[39;49m\u001b[38;5;241;43m.\u001b[39;49m\u001b[43m_dataset_fetcher\u001b[49m\u001b[38;5;241;43m.\u001b[39;49m\u001b[43mfetch\u001b[49m\u001b[43m(\u001b[49m\u001b[43mindex\u001b[49m\u001b[43m)\u001b[49m  \u001b[38;5;66;03m# may raise StopIteration\u001b[39;00m\n\u001b[1;32m    676\u001b[0m     \u001b[38;5;28;01mif\u001b[39;00m \u001b[38;5;28mself\u001b[39m\u001b[38;5;241m.\u001b[39m_pin_memory:\n\u001b[1;32m    677\u001b[0m         data \u001b[38;5;241m=\u001b[39m _utils\u001b[38;5;241m.\u001b[39mpin_memory\u001b[38;5;241m.\u001b[39mpin_memory(data, \u001b[38;5;28mself\u001b[39m\u001b[38;5;241m.\u001b[39m_pin_memory_device)\n",
      "File \u001b[0;32m/Library/Frameworks/Python.framework/Versions/3.12/lib/python3.12/site-packages/torch/utils/data/_utils/fetch.py:51\u001b[0m, in \u001b[0;36m_MapDatasetFetcher.fetch\u001b[0;34m(self, possibly_batched_index)\u001b[0m\n\u001b[1;32m     49\u001b[0m         data \u001b[38;5;241m=\u001b[39m \u001b[38;5;28mself\u001b[39m\u001b[38;5;241m.\u001b[39mdataset\u001b[38;5;241m.\u001b[39m__getitems__(possibly_batched_index)\n\u001b[1;32m     50\u001b[0m     \u001b[38;5;28;01melse\u001b[39;00m:\n\u001b[0;32m---> 51\u001b[0m         data \u001b[38;5;241m=\u001b[39m [\u001b[38;5;28;43mself\u001b[39;49m\u001b[38;5;241;43m.\u001b[39;49m\u001b[43mdataset\u001b[49m\u001b[43m[\u001b[49m\u001b[43midx\u001b[49m\u001b[43m]\u001b[49m \u001b[38;5;28;01mfor\u001b[39;00m idx \u001b[38;5;129;01min\u001b[39;00m possibly_batched_index]\n\u001b[1;32m     52\u001b[0m \u001b[38;5;28;01melse\u001b[39;00m:\n\u001b[1;32m     53\u001b[0m     data \u001b[38;5;241m=\u001b[39m \u001b[38;5;28mself\u001b[39m\u001b[38;5;241m.\u001b[39mdataset[possibly_batched_index]\n",
      "Cell \u001b[0;32mIn[590], line 9\u001b[0m, in \u001b[0;36mConcatenatedLandCoverDataset.__getitem__\u001b[0;34m(self, idx)\u001b[0m\n\u001b[1;32m      7\u001b[0m \u001b[38;5;28;01mdef\u001b[39;00m \u001b[38;5;21m__getitem__\u001b[39m(\u001b[38;5;28mself\u001b[39m, idx):\n\u001b[1;32m      8\u001b[0m     \u001b[38;5;28;01mif\u001b[39;00m idx \u001b[38;5;241m<\u001b[39m \u001b[38;5;28mlen\u001b[39m(\u001b[38;5;28mself\u001b[39m\u001b[38;5;241m.\u001b[39mdataset1):\n\u001b[0;32m----> 9\u001b[0m         \u001b[38;5;28;01mreturn\u001b[39;00m \u001b[38;5;28;43mself\u001b[39;49m\u001b[38;5;241;43m.\u001b[39;49m\u001b[43mdataset1\u001b[49m\u001b[43m[\u001b[49m\u001b[43midx\u001b[49m\u001b[43m]\u001b[49m\n\u001b[1;32m     10\u001b[0m     \u001b[38;5;28;01melse\u001b[39;00m:\n\u001b[1;32m     11\u001b[0m         \u001b[38;5;28;01mreturn\u001b[39;00m \u001b[38;5;28mself\u001b[39m\u001b[38;5;241m.\u001b[39mdataset2[idx \u001b[38;5;241m-\u001b[39m \u001b[38;5;28mlen\u001b[39m(\u001b[38;5;28mself\u001b[39m\u001b[38;5;241m.\u001b[39mdataset1)]\n",
      "Cell \u001b[0;32mIn[555], line 21\u001b[0m, in \u001b[0;36mLandCoverDataset.__getitem__\u001b[0;34m(self, idx)\u001b[0m\n\u001b[1;32m     20\u001b[0m \u001b[38;5;28;01mdef\u001b[39;00m \u001b[38;5;21m__getitem__\u001b[39m(\u001b[38;5;28mself\u001b[39m, idx):\n\u001b[0;32m---> 21\u001b[0m         image_path \u001b[38;5;241m=\u001b[39m os\u001b[38;5;241m.\u001b[39mpath\u001b[38;5;241m.\u001b[39mjoin(\u001b[38;5;28mself\u001b[39m\u001b[38;5;241m.\u001b[39mfolder, \u001b[38;5;28;43mself\u001b[39;49m\u001b[38;5;241;43m.\u001b[39;49m\u001b[43mdata\u001b[49m\u001b[38;5;241;43m.\u001b[39;49m\u001b[43mloc\u001b[49m\u001b[43m[\u001b[49m\u001b[43midx\u001b[49m\u001b[43m,\u001b[49m\u001b[43m \u001b[49m\u001b[38;5;28;43mself\u001b[39;49m\u001b[38;5;241;43m.\u001b[39;49m\u001b[43mimage_id_column\u001b[49m\u001b[43m]\u001b[49m)\n\u001b[1;32m     22\u001b[0m         \u001b[38;5;28mprint\u001b[39m(\u001b[38;5;124m\"\u001b[39m\u001b[38;5;124mogimg\u001b[39m\u001b[38;5;124m\"\u001b[39m,image_path)\n\u001b[1;32m     23\u001b[0m         \u001b[38;5;28mprint\u001b[39m(\u001b[38;5;28mself\u001b[39m\u001b[38;5;241m.\u001b[39mimage_id_column)\n",
      "File \u001b[0;32m/Library/Frameworks/Python.framework/Versions/3.12/lib/python3.12/site-packages/pandas/core/indexing.py:1183\u001b[0m, in \u001b[0;36m_LocationIndexer.__getitem__\u001b[0;34m(self, key)\u001b[0m\n\u001b[1;32m   1181\u001b[0m     key \u001b[38;5;241m=\u001b[39m \u001b[38;5;28mtuple\u001b[39m(com\u001b[38;5;241m.\u001b[39mapply_if_callable(x, \u001b[38;5;28mself\u001b[39m\u001b[38;5;241m.\u001b[39mobj) \u001b[38;5;28;01mfor\u001b[39;00m x \u001b[38;5;129;01min\u001b[39;00m key)\n\u001b[1;32m   1182\u001b[0m     \u001b[38;5;28;01mif\u001b[39;00m \u001b[38;5;28mself\u001b[39m\u001b[38;5;241m.\u001b[39m_is_scalar_access(key):\n\u001b[0;32m-> 1183\u001b[0m         \u001b[38;5;28;01mreturn\u001b[39;00m \u001b[38;5;28;43mself\u001b[39;49m\u001b[38;5;241;43m.\u001b[39;49m\u001b[43mobj\u001b[49m\u001b[38;5;241;43m.\u001b[39;49m\u001b[43m_get_value\u001b[49m\u001b[43m(\u001b[49m\u001b[38;5;241;43m*\u001b[39;49m\u001b[43mkey\u001b[49m\u001b[43m,\u001b[49m\u001b[43m \u001b[49m\u001b[43mtakeable\u001b[49m\u001b[38;5;241;43m=\u001b[39;49m\u001b[38;5;28;43mself\u001b[39;49m\u001b[38;5;241;43m.\u001b[39;49m\u001b[43m_takeable\u001b[49m\u001b[43m)\u001b[49m\n\u001b[1;32m   1184\u001b[0m     \u001b[38;5;28;01mreturn\u001b[39;00m \u001b[38;5;28mself\u001b[39m\u001b[38;5;241m.\u001b[39m_getitem_tuple(key)\n\u001b[1;32m   1185\u001b[0m \u001b[38;5;28;01melse\u001b[39;00m:\n\u001b[1;32m   1186\u001b[0m     \u001b[38;5;66;03m# we by definition only have the 0th axis\u001b[39;00m\n",
      "File \u001b[0;32m/Library/Frameworks/Python.framework/Versions/3.12/lib/python3.12/site-packages/pandas/core/frame.py:4209\u001b[0m, in \u001b[0;36mDataFrame._get_value\u001b[0;34m(self, index, col, takeable)\u001b[0m\n\u001b[1;32m   4203\u001b[0m engine \u001b[38;5;241m=\u001b[39m \u001b[38;5;28mself\u001b[39m\u001b[38;5;241m.\u001b[39mindex\u001b[38;5;241m.\u001b[39m_engine\n\u001b[1;32m   4205\u001b[0m \u001b[38;5;28;01mif\u001b[39;00m \u001b[38;5;129;01mnot\u001b[39;00m \u001b[38;5;28misinstance\u001b[39m(\u001b[38;5;28mself\u001b[39m\u001b[38;5;241m.\u001b[39mindex, MultiIndex):\n\u001b[1;32m   4206\u001b[0m     \u001b[38;5;66;03m# CategoricalIndex: Trying to use the engine fastpath may give incorrect\u001b[39;00m\n\u001b[1;32m   4207\u001b[0m     \u001b[38;5;66;03m#  results if our categories are integers that dont match our codes\u001b[39;00m\n\u001b[1;32m   4208\u001b[0m     \u001b[38;5;66;03m# IntervalIndex: IntervalTree has no get_loc\u001b[39;00m\n\u001b[0;32m-> 4209\u001b[0m     row \u001b[38;5;241m=\u001b[39m \u001b[38;5;28;43mself\u001b[39;49m\u001b[38;5;241;43m.\u001b[39;49m\u001b[43mindex\u001b[49m\u001b[38;5;241;43m.\u001b[39;49m\u001b[43mget_loc\u001b[49m\u001b[43m(\u001b[49m\u001b[43mindex\u001b[49m\u001b[43m)\u001b[49m\n\u001b[1;32m   4210\u001b[0m     \u001b[38;5;28;01mreturn\u001b[39;00m series\u001b[38;5;241m.\u001b[39m_values[row]\n\u001b[1;32m   4212\u001b[0m \u001b[38;5;66;03m# For MultiIndex going through engine effectively restricts us to\u001b[39;00m\n\u001b[1;32m   4213\u001b[0m \u001b[38;5;66;03m#  same-length tuples; see test_get_set_value_no_partial_indexing\u001b[39;00m\n",
      "File \u001b[0;32m/Library/Frameworks/Python.framework/Versions/3.12/lib/python3.12/site-packages/pandas/core/indexes/base.py:3812\u001b[0m, in \u001b[0;36mIndex.get_loc\u001b[0;34m(self, key)\u001b[0m\n\u001b[1;32m   3807\u001b[0m     \u001b[38;5;28;01mif\u001b[39;00m \u001b[38;5;28misinstance\u001b[39m(casted_key, \u001b[38;5;28mslice\u001b[39m) \u001b[38;5;129;01mor\u001b[39;00m (\n\u001b[1;32m   3808\u001b[0m         \u001b[38;5;28misinstance\u001b[39m(casted_key, abc\u001b[38;5;241m.\u001b[39mIterable)\n\u001b[1;32m   3809\u001b[0m         \u001b[38;5;129;01mand\u001b[39;00m \u001b[38;5;28many\u001b[39m(\u001b[38;5;28misinstance\u001b[39m(x, \u001b[38;5;28mslice\u001b[39m) \u001b[38;5;28;01mfor\u001b[39;00m x \u001b[38;5;129;01min\u001b[39;00m casted_key)\n\u001b[1;32m   3810\u001b[0m     ):\n\u001b[1;32m   3811\u001b[0m         \u001b[38;5;28;01mraise\u001b[39;00m InvalidIndexError(key)\n\u001b[0;32m-> 3812\u001b[0m     \u001b[38;5;28;01mraise\u001b[39;00m \u001b[38;5;167;01mKeyError\u001b[39;00m(key) \u001b[38;5;28;01mfrom\u001b[39;00m \u001b[38;5;21;01merr\u001b[39;00m\n\u001b[1;32m   3813\u001b[0m \u001b[38;5;28;01mexcept\u001b[39;00m \u001b[38;5;167;01mTypeError\u001b[39;00m:\n\u001b[1;32m   3814\u001b[0m     \u001b[38;5;66;03m# If we have a listlike key, _check_indexing_error will raise\u001b[39;00m\n\u001b[1;32m   3815\u001b[0m     \u001b[38;5;66;03m#  InvalidIndexError. Otherwise we fall through and re-raise\u001b[39;00m\n\u001b[1;32m   3816\u001b[0m     \u001b[38;5;66;03m#  the TypeError.\u001b[39;00m\n\u001b[1;32m   3817\u001b[0m     \u001b[38;5;28mself\u001b[39m\u001b[38;5;241m.\u001b[39m_check_indexing_error(key)\n",
      "\u001b[0;31mKeyError\u001b[0m: 1"
     ]
    }
   ],
   "source": []
  },
  {
   "cell_type": "code",
   "execution_count": 611,
   "id": "a52b7859-e77f-46b3-831e-958d6f3849c0",
   "metadata": {},
   "outputs": [
    {
     "ename": "KeyError",
     "evalue": "12",
     "output_type": "error",
     "traceback": [
      "\u001b[0;31m---------------------------------------------------------------------------\u001b[0m",
      "\u001b[0;31mKeyError\u001b[0m                                  Traceback (most recent call last)",
      "File \u001b[0;32m/Library/Frameworks/Python.framework/Versions/3.12/lib/python3.12/site-packages/pandas/core/indexes/base.py:3805\u001b[0m, in \u001b[0;36mIndex.get_loc\u001b[0;34m(self, key)\u001b[0m\n\u001b[1;32m   3804\u001b[0m \u001b[38;5;28;01mtry\u001b[39;00m:\n\u001b[0;32m-> 3805\u001b[0m     \u001b[38;5;28;01mreturn\u001b[39;00m \u001b[38;5;28;43mself\u001b[39;49m\u001b[38;5;241;43m.\u001b[39;49m\u001b[43m_engine\u001b[49m\u001b[38;5;241;43m.\u001b[39;49m\u001b[43mget_loc\u001b[49m\u001b[43m(\u001b[49m\u001b[43mcasted_key\u001b[49m\u001b[43m)\u001b[49m\n\u001b[1;32m   3806\u001b[0m \u001b[38;5;28;01mexcept\u001b[39;00m \u001b[38;5;167;01mKeyError\u001b[39;00m \u001b[38;5;28;01mas\u001b[39;00m err:\n",
      "File \u001b[0;32mindex.pyx:167\u001b[0m, in \u001b[0;36mpandas._libs.index.IndexEngine.get_loc\u001b[0;34m()\u001b[0m\n",
      "File \u001b[0;32mindex.pyx:196\u001b[0m, in \u001b[0;36mpandas._libs.index.IndexEngine.get_loc\u001b[0;34m()\u001b[0m\n",
      "File \u001b[0;32mpandas/_libs/hashtable_class_helper.pxi:2606\u001b[0m, in \u001b[0;36mpandas._libs.hashtable.Int64HashTable.get_item\u001b[0;34m()\u001b[0m\n",
      "File \u001b[0;32mpandas/_libs/hashtable_class_helper.pxi:2630\u001b[0m, in \u001b[0;36mpandas._libs.hashtable.Int64HashTable.get_item\u001b[0;34m()\u001b[0m\n",
      "\u001b[0;31mKeyError\u001b[0m: 12",
      "\nThe above exception was the direct cause of the following exception:\n",
      "\u001b[0;31mKeyError\u001b[0m                                  Traceback (most recent call last)",
      "Cell \u001b[0;32mIn[611], line 1\u001b[0m\n\u001b[0;32m----> 1\u001b[0m \u001b[43mconcatenated_train_dataset\u001b[49m\u001b[43m[\u001b[49m\u001b[38;5;241;43m12\u001b[39;49m\u001b[43m]\u001b[49m\n",
      "Cell \u001b[0;32mIn[590], line 9\u001b[0m, in \u001b[0;36mConcatenatedLandCoverDataset.__getitem__\u001b[0;34m(self, idx)\u001b[0m\n\u001b[1;32m      7\u001b[0m \u001b[38;5;28;01mdef\u001b[39;00m \u001b[38;5;21m__getitem__\u001b[39m(\u001b[38;5;28mself\u001b[39m, idx):\n\u001b[1;32m      8\u001b[0m     \u001b[38;5;28;01mif\u001b[39;00m idx \u001b[38;5;241m<\u001b[39m \u001b[38;5;28mlen\u001b[39m(\u001b[38;5;28mself\u001b[39m\u001b[38;5;241m.\u001b[39mdataset1):\n\u001b[0;32m----> 9\u001b[0m         \u001b[38;5;28;01mreturn\u001b[39;00m \u001b[38;5;28;43mself\u001b[39;49m\u001b[38;5;241;43m.\u001b[39;49m\u001b[43mdataset1\u001b[49m\u001b[43m[\u001b[49m\u001b[43midx\u001b[49m\u001b[43m]\u001b[49m\n\u001b[1;32m     10\u001b[0m     \u001b[38;5;28;01melse\u001b[39;00m:\n\u001b[1;32m     11\u001b[0m         \u001b[38;5;28;01mreturn\u001b[39;00m \u001b[38;5;28mself\u001b[39m\u001b[38;5;241m.\u001b[39mdataset2[idx \u001b[38;5;241m-\u001b[39m \u001b[38;5;28mlen\u001b[39m(\u001b[38;5;28mself\u001b[39m\u001b[38;5;241m.\u001b[39mdataset1)]\n",
      "Cell \u001b[0;32mIn[555], line 21\u001b[0m, in \u001b[0;36mLandCoverDataset.__getitem__\u001b[0;34m(self, idx)\u001b[0m\n\u001b[1;32m     20\u001b[0m \u001b[38;5;28;01mdef\u001b[39;00m \u001b[38;5;21m__getitem__\u001b[39m(\u001b[38;5;28mself\u001b[39m, idx):\n\u001b[0;32m---> 21\u001b[0m         image_path \u001b[38;5;241m=\u001b[39m os\u001b[38;5;241m.\u001b[39mpath\u001b[38;5;241m.\u001b[39mjoin(\u001b[38;5;28mself\u001b[39m\u001b[38;5;241m.\u001b[39mfolder, \u001b[38;5;28;43mself\u001b[39;49m\u001b[38;5;241;43m.\u001b[39;49m\u001b[43mdata\u001b[49m\u001b[38;5;241;43m.\u001b[39;49m\u001b[43mloc\u001b[49m\u001b[43m[\u001b[49m\u001b[43midx\u001b[49m\u001b[43m,\u001b[49m\u001b[43m \u001b[49m\u001b[38;5;28;43mself\u001b[39;49m\u001b[38;5;241;43m.\u001b[39;49m\u001b[43mimage_id_column\u001b[49m\u001b[43m]\u001b[49m)\n\u001b[1;32m     22\u001b[0m         \u001b[38;5;28mprint\u001b[39m(\u001b[38;5;124m\"\u001b[39m\u001b[38;5;124mogimg\u001b[39m\u001b[38;5;124m\"\u001b[39m,image_path)\n\u001b[1;32m     23\u001b[0m         \u001b[38;5;28mprint\u001b[39m(\u001b[38;5;28mself\u001b[39m\u001b[38;5;241m.\u001b[39mimage_id_column)\n",
      "File \u001b[0;32m/Library/Frameworks/Python.framework/Versions/3.12/lib/python3.12/site-packages/pandas/core/indexing.py:1183\u001b[0m, in \u001b[0;36m_LocationIndexer.__getitem__\u001b[0;34m(self, key)\u001b[0m\n\u001b[1;32m   1181\u001b[0m     key \u001b[38;5;241m=\u001b[39m \u001b[38;5;28mtuple\u001b[39m(com\u001b[38;5;241m.\u001b[39mapply_if_callable(x, \u001b[38;5;28mself\u001b[39m\u001b[38;5;241m.\u001b[39mobj) \u001b[38;5;28;01mfor\u001b[39;00m x \u001b[38;5;129;01min\u001b[39;00m key)\n\u001b[1;32m   1182\u001b[0m     \u001b[38;5;28;01mif\u001b[39;00m \u001b[38;5;28mself\u001b[39m\u001b[38;5;241m.\u001b[39m_is_scalar_access(key):\n\u001b[0;32m-> 1183\u001b[0m         \u001b[38;5;28;01mreturn\u001b[39;00m \u001b[38;5;28;43mself\u001b[39;49m\u001b[38;5;241;43m.\u001b[39;49m\u001b[43mobj\u001b[49m\u001b[38;5;241;43m.\u001b[39;49m\u001b[43m_get_value\u001b[49m\u001b[43m(\u001b[49m\u001b[38;5;241;43m*\u001b[39;49m\u001b[43mkey\u001b[49m\u001b[43m,\u001b[49m\u001b[43m \u001b[49m\u001b[43mtakeable\u001b[49m\u001b[38;5;241;43m=\u001b[39;49m\u001b[38;5;28;43mself\u001b[39;49m\u001b[38;5;241;43m.\u001b[39;49m\u001b[43m_takeable\u001b[49m\u001b[43m)\u001b[49m\n\u001b[1;32m   1184\u001b[0m     \u001b[38;5;28;01mreturn\u001b[39;00m \u001b[38;5;28mself\u001b[39m\u001b[38;5;241m.\u001b[39m_getitem_tuple(key)\n\u001b[1;32m   1185\u001b[0m \u001b[38;5;28;01melse\u001b[39;00m:\n\u001b[1;32m   1186\u001b[0m     \u001b[38;5;66;03m# we by definition only have the 0th axis\u001b[39;00m\n",
      "File \u001b[0;32m/Library/Frameworks/Python.framework/Versions/3.12/lib/python3.12/site-packages/pandas/core/frame.py:4209\u001b[0m, in \u001b[0;36mDataFrame._get_value\u001b[0;34m(self, index, col, takeable)\u001b[0m\n\u001b[1;32m   4203\u001b[0m engine \u001b[38;5;241m=\u001b[39m \u001b[38;5;28mself\u001b[39m\u001b[38;5;241m.\u001b[39mindex\u001b[38;5;241m.\u001b[39m_engine\n\u001b[1;32m   4205\u001b[0m \u001b[38;5;28;01mif\u001b[39;00m \u001b[38;5;129;01mnot\u001b[39;00m \u001b[38;5;28misinstance\u001b[39m(\u001b[38;5;28mself\u001b[39m\u001b[38;5;241m.\u001b[39mindex, MultiIndex):\n\u001b[1;32m   4206\u001b[0m     \u001b[38;5;66;03m# CategoricalIndex: Trying to use the engine fastpath may give incorrect\u001b[39;00m\n\u001b[1;32m   4207\u001b[0m     \u001b[38;5;66;03m#  results if our categories are integers that dont match our codes\u001b[39;00m\n\u001b[1;32m   4208\u001b[0m     \u001b[38;5;66;03m# IntervalIndex: IntervalTree has no get_loc\u001b[39;00m\n\u001b[0;32m-> 4209\u001b[0m     row \u001b[38;5;241m=\u001b[39m \u001b[38;5;28;43mself\u001b[39;49m\u001b[38;5;241;43m.\u001b[39;49m\u001b[43mindex\u001b[49m\u001b[38;5;241;43m.\u001b[39;49m\u001b[43mget_loc\u001b[49m\u001b[43m(\u001b[49m\u001b[43mindex\u001b[49m\u001b[43m)\u001b[49m\n\u001b[1;32m   4210\u001b[0m     \u001b[38;5;28;01mreturn\u001b[39;00m series\u001b[38;5;241m.\u001b[39m_values[row]\n\u001b[1;32m   4212\u001b[0m \u001b[38;5;66;03m# For MultiIndex going through engine effectively restricts us to\u001b[39;00m\n\u001b[1;32m   4213\u001b[0m \u001b[38;5;66;03m#  same-length tuples; see test_get_set_value_no_partial_indexing\u001b[39;00m\n",
      "File \u001b[0;32m/Library/Frameworks/Python.framework/Versions/3.12/lib/python3.12/site-packages/pandas/core/indexes/base.py:3812\u001b[0m, in \u001b[0;36mIndex.get_loc\u001b[0;34m(self, key)\u001b[0m\n\u001b[1;32m   3807\u001b[0m     \u001b[38;5;28;01mif\u001b[39;00m \u001b[38;5;28misinstance\u001b[39m(casted_key, \u001b[38;5;28mslice\u001b[39m) \u001b[38;5;129;01mor\u001b[39;00m (\n\u001b[1;32m   3808\u001b[0m         \u001b[38;5;28misinstance\u001b[39m(casted_key, abc\u001b[38;5;241m.\u001b[39mIterable)\n\u001b[1;32m   3809\u001b[0m         \u001b[38;5;129;01mand\u001b[39;00m \u001b[38;5;28many\u001b[39m(\u001b[38;5;28misinstance\u001b[39m(x, \u001b[38;5;28mslice\u001b[39m) \u001b[38;5;28;01mfor\u001b[39;00m x \u001b[38;5;129;01min\u001b[39;00m casted_key)\n\u001b[1;32m   3810\u001b[0m     ):\n\u001b[1;32m   3811\u001b[0m         \u001b[38;5;28;01mraise\u001b[39;00m InvalidIndexError(key)\n\u001b[0;32m-> 3812\u001b[0m     \u001b[38;5;28;01mraise\u001b[39;00m \u001b[38;5;167;01mKeyError\u001b[39;00m(key) \u001b[38;5;28;01mfrom\u001b[39;00m \u001b[38;5;21;01merr\u001b[39;00m\n\u001b[1;32m   3813\u001b[0m \u001b[38;5;28;01mexcept\u001b[39;00m \u001b[38;5;167;01mTypeError\u001b[39;00m:\n\u001b[1;32m   3814\u001b[0m     \u001b[38;5;66;03m# If we have a listlike key, _check_indexing_error will raise\u001b[39;00m\n\u001b[1;32m   3815\u001b[0m     \u001b[38;5;66;03m#  InvalidIndexError. Otherwise we fall through and re-raise\u001b[39;00m\n\u001b[1;32m   3816\u001b[0m     \u001b[38;5;66;03m#  the TypeError.\u001b[39;00m\n\u001b[1;32m   3817\u001b[0m     \u001b[38;5;28mself\u001b[39m\u001b[38;5;241m.\u001b[39m_check_indexing_error(key)\n",
      "\u001b[0;31mKeyError\u001b[0m: 12"
     ]
    }
   ],
   "source": [
    "concatenated_train_dataset[12]"
   ]
  },
  {
   "cell_type": "code",
   "execution_count": 11,
   "id": "60e921d1-34d4-4692-9049-4f925f53b64b",
   "metadata": {},
   "outputs": [],
   "source": [
    "import shutil\n",
    "def move_files(source_folder, destination_folder):\n",
    "    # Get a list of all files in the source folder\n",
    "    files = os.listdir(source_folder)\n",
    "    \n",
    "    # Iterate through each file and move it to the destination folder\n",
    "    for file in files:\n",
    "        # Construct the full file paths\n",
    "        source_file_path = os.path.join(source_folder, file)\n",
    "        destination_file_path = os.path.join(destination_folder, file)\n",
    "        \n",
    "        # Move the file to the destination folder\n",
    "        shutil.move(source_file_path, destination_file_path)\n",
    "move_files('/Volumes/LaCie/MIT/MLSS Final Project/Oil_Palm_Kaggle/leaderboard_test_data', '/Volumes/LaCie/MIT/MLSS Final Project/datasets_apr22/test-data')"
   ]
  }
 ],
 "metadata": {
  "kernelspec": {
   "display_name": "Python 3 (ipykernel)",
   "language": "python",
   "name": "python3"
  },
  "language_info": {
   "codemirror_mode": {
    "name": "ipython",
    "version": 3
   },
   "file_extension": ".py",
   "mimetype": "text/x-python",
   "name": "python",
   "nbconvert_exporter": "python",
   "pygments_lexer": "ipython3",
   "version": "3.12.2"
  }
 },
 "nbformat": 4,
 "nbformat_minor": 5
}
